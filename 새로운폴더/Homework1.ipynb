{
 "cells": [
  {
   "cell_type": "code",
   "execution_count": 6,
   "id": "94c4d137-e74c-4b5a-b84e-ce989ad00d70",
   "metadata": {
    "tags": []
   },
   "outputs": [],
   "source": [
    "Lovely_Loveseat_description = \"Lovely Loveseat. Tufted polyester blend on wood. 32 inches high x 40 inches wide x 30 inches deep. Red or white.\"  #1\n",
    "lovely_loveseat_price = 254.00 #\n",
    "stylish_settee_description = \"Stylish Settee. Faux leather on birch. 29.50 inches high x 54.75 inches wide x 28 inches deep. Black.\" #3\n",
    "stylish_settee_price = 180.50 #4\n",
    "luxurious_lamp_description = \"Luxurious Lamp. Glass and iron. 36 inches tall. Brown with cream shade.\"  #5\n",
    "luxurious_lamp_price = 52.15 #6\n",
    "sales_tax =.088 #7"
   ]
  },
  {
   "cell_type": "code",
   "execution_count": 7,
   "id": "d241b5f3-245c-4dc5-bb49-18b817cae1b3",
   "metadata": {
    "tags": []
   },
   "outputs": [],
   "source": [
    "customer_one_total = 0 #8\n",
    "customer_one_itemization = \"\" #9\n",
    "customer_one_total += lovely_loveseat_price #10\n",
    "customer_one_itemization += Lovely_Loveseat_description #11\n",
    "\n"
   ]
  },
  {
   "cell_type": "code",
   "execution_count": 8,
   "id": "d921865d-ce93-4f47-a987-3144929ab1b9",
   "metadata": {
    "tags": []
   },
   "outputs": [
    {
     "name": "stdout",
     "output_type": "stream",
     "text": [
      "Customer One Items:\n",
      "Lovely Loveseat. Tufted polyester blend on wood. 32 inches high x 40 inches wide x 30 inches deep. Red or white.Luxurious Lamp. Glass and iron. 36 inches tall. Brown with cream shade.\n",
      "Customer One Total:\n",
      "333.09119999999996\n"
     ]
    }
   ],
   "source": [
    "customer_one_total += luxurious_lamp_price #12\n",
    "\n",
    "customer_one_itemization += luxurious_lamp_description #13\n",
    "#14\n",
    "customer_one_tax = customer_one_total * sales_tax\n",
    "\n",
    "customer_one_total += customer_one_tax # 15\n",
    "print(\"Customer One Items:\") #16\n",
    "print(customer_one_itemization) #17\n",
    "\n",
    "print(\"Customer One Total:\") # 18\n",
    "print(customer_one_total) #19"
   ]
  },
  {
   "cell_type": "code",
   "execution_count": null,
   "id": "84cfebea-9e5a-4290-beb9-2fa78a9ef26d",
   "metadata": {},
   "outputs": [],
   "source": []
  },
  {
   "cell_type": "code",
   "execution_count": null,
   "id": "6c56ef15-48ed-4da8-a7f6-3645cdc6f05c",
   "metadata": {},
   "outputs": [],
   "source": []
  }
 ],
 "metadata": {
  "kernelspec": {
   "display_name": "Python 3 (ipykernel)",
   "language": "python",
   "name": "python3"
  },
  "language_info": {
   "codemirror_mode": {
    "name": "ipython",
    "version": 3
   },
   "file_extension": ".py",
   "mimetype": "text/x-python",
   "name": "python",
   "nbconvert_exporter": "python",
   "pygments_lexer": "ipython3",
   "version": "3.11.4"
  }
 },
 "nbformat": 4,
 "nbformat_minor": 5
}
